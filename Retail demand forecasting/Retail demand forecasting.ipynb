{
 "cells": [
  {
   "cell_type": "markdown",
   "metadata": {},
   "source": [
    "### Задание  \n",
    "\n",
    "Требуется принять участие в контесте по прогнозированию спроса на новые пары товар/магазин:\n",
    "https://www.kaggle.com/t/d6212c14bc11462d996f0643bdfef68f \n",
    "\n",
    "Описание данных с Kaggle:  \n",
    "**product_rk** - id of a product, there is only 6 different products in data set  \n",
    "**store_location_rk** - id of a store  \n",
    "**period_start_dt** - date (a Monday date of a week)  \n",
    "**demand** - target variable (double), is missing for the forecasting period (i.e. since 02Dec2019 to 30Dec2019)  \n",
    "... - other fields in train set are demand driver information"
   ]
  },
  {
   "cell_type": "code",
   "execution_count": 1,
   "metadata": {},
   "outputs": [
    {
     "data": {
      "text/html": [
       "<div>\n",
       "<style scoped>\n",
       "    .dataframe tbody tr th:only-of-type {\n",
       "        vertical-align: middle;\n",
       "    }\n",
       "\n",
       "    .dataframe tbody tr th {\n",
       "        vertical-align: top;\n",
       "    }\n",
       "\n",
       "    .dataframe thead th {\n",
       "        text-align: right;\n",
       "    }\n",
       "</style>\n",
       "<table border=\"1\" class=\"dataframe\">\n",
       "  <thead>\n",
       "    <tr style=\"text-align: right;\">\n",
       "      <th></th>\n",
       "      <th>Unnamed: 0</th>\n",
       "      <th>product_rk</th>\n",
       "      <th>store_location_rk</th>\n",
       "      <th>period_start_dt</th>\n",
       "      <th>demand</th>\n",
       "      <th>PROMO1_FLAG</th>\n",
       "      <th>PROMO2_FLAG</th>\n",
       "      <th>PRICE_REGULAR</th>\n",
       "      <th>PRICE_AFTER_DISC</th>\n",
       "      <th>NUM_CONSULTANT</th>\n",
       "      <th>AUTORIZATION_FLAG</th>\n",
       "    </tr>\n",
       "  </thead>\n",
       "  <tbody>\n",
       "    <tr>\n",
       "      <th>0</th>\n",
       "      <td>0</td>\n",
       "      <td>40369</td>\n",
       "      <td>309</td>\n",
       "      <td>2016-12-19</td>\n",
       "      <td>29.0</td>\n",
       "      <td>NaN</td>\n",
       "      <td>NaN</td>\n",
       "      <td>NaN</td>\n",
       "      <td>NaN</td>\n",
       "      <td>NaN</td>\n",
       "      <td>NaN</td>\n",
       "    </tr>\n",
       "    <tr>\n",
       "      <th>1</th>\n",
       "      <td>1</td>\n",
       "      <td>40370</td>\n",
       "      <td>309</td>\n",
       "      <td>2016-12-19</td>\n",
       "      <td>64.0</td>\n",
       "      <td>NaN</td>\n",
       "      <td>NaN</td>\n",
       "      <td>NaN</td>\n",
       "      <td>NaN</td>\n",
       "      <td>NaN</td>\n",
       "      <td>NaN</td>\n",
       "    </tr>\n",
       "    <tr>\n",
       "      <th>2</th>\n",
       "      <td>2</td>\n",
       "      <td>40372</td>\n",
       "      <td>309</td>\n",
       "      <td>2016-12-19</td>\n",
       "      <td>32.0</td>\n",
       "      <td>NaN</td>\n",
       "      <td>NaN</td>\n",
       "      <td>NaN</td>\n",
       "      <td>NaN</td>\n",
       "      <td>NaN</td>\n",
       "      <td>NaN</td>\n",
       "    </tr>\n",
       "    <tr>\n",
       "      <th>3</th>\n",
       "      <td>3</td>\n",
       "      <td>40373</td>\n",
       "      <td>309</td>\n",
       "      <td>2016-12-19</td>\n",
       "      <td>10.0</td>\n",
       "      <td>NaN</td>\n",
       "      <td>NaN</td>\n",
       "      <td>NaN</td>\n",
       "      <td>NaN</td>\n",
       "      <td>NaN</td>\n",
       "      <td>NaN</td>\n",
       "    </tr>\n",
       "    <tr>\n",
       "      <th>4</th>\n",
       "      <td>4</td>\n",
       "      <td>46272</td>\n",
       "      <td>309</td>\n",
       "      <td>2016-12-19</td>\n",
       "      <td>15.0</td>\n",
       "      <td>NaN</td>\n",
       "      <td>NaN</td>\n",
       "      <td>NaN</td>\n",
       "      <td>NaN</td>\n",
       "      <td>NaN</td>\n",
       "      <td>NaN</td>\n",
       "    </tr>\n",
       "  </tbody>\n",
       "</table>\n",
       "</div>"
      ],
      "text/plain": [
       "   Unnamed: 0  product_rk  store_location_rk period_start_dt  demand  \\\n",
       "0           0       40369                309      2016-12-19    29.0   \n",
       "1           1       40370                309      2016-12-19    64.0   \n",
       "2           2       40372                309      2016-12-19    32.0   \n",
       "3           3       40373                309      2016-12-19    10.0   \n",
       "4           4       46272                309      2016-12-19    15.0   \n",
       "\n",
       "   PROMO1_FLAG  PROMO2_FLAG  PRICE_REGULAR  PRICE_AFTER_DISC  NUM_CONSULTANT  \\\n",
       "0          NaN          NaN            NaN               NaN             NaN   \n",
       "1          NaN          NaN            NaN               NaN             NaN   \n",
       "2          NaN          NaN            NaN               NaN             NaN   \n",
       "3          NaN          NaN            NaN               NaN             NaN   \n",
       "4          NaN          NaN            NaN               NaN             NaN   \n",
       "\n",
       "   AUTORIZATION_FLAG  \n",
       "0                NaN  \n",
       "1                NaN  \n",
       "2                NaN  \n",
       "3                NaN  \n",
       "4                NaN  "
      ]
     },
     "execution_count": 1,
     "metadata": {},
     "output_type": "execute_result"
    }
   ],
   "source": [
    "import pandas as pd\n",
    "import seaborn as sns\n",
    "import matplotlib.pyplot as plt\n",
    "import numpy as np\n",
    "from sklearn.model_selection import train_test_split\n",
    "\n",
    "\n",
    "train = pd.read_csv('./train.csv')\n",
    "train.head()"
   ]
  },
  {
   "cell_type": "code",
   "execution_count": 2,
   "metadata": {},
   "outputs": [
    {
     "name": "stdout",
     "output_type": "stream",
     "text": [
      "column: product_rk\n",
      "\tUnique values:6\n",
      "\tNone:0.0%\n",
      "\n",
      "column: store_location_rk\n",
      "\tUnique values:41\n",
      "\tNone:0.0%\n",
      "\n",
      "column: period_start_dt\n",
      "\tUnique values:159\n",
      "\tNone:0.0%\n",
      "\n",
      "column: demand\n",
      "\tUnique values:1807\n",
      "\tNone:0.03395%\n",
      "\n",
      "column: PROMO1_FLAG\n",
      "\tUnique values:4\n",
      "\tNone:0.00523%\n",
      "\n",
      "column: PROMO2_FLAG\n",
      "\tUnique values:2\n",
      "\tNone:0.00523%\n",
      "\n",
      "column: PRICE_REGULAR\n",
      "\tUnique values:230\n",
      "\tNone:0.03189%\n",
      "\n",
      "column: PRICE_AFTER_DISC\n",
      "\tUnique values:1037\n",
      "\tNone:0.03203%\n",
      "\n",
      "column: NUM_CONSULTANT\n",
      "\tUnique values:2\n",
      "\tNone:0.00523%\n",
      "\n",
      "column: AUTORIZATION_FLAG\n",
      "\tUnique values:3\n",
      "\tNone:0.00523%\n",
      "\n",
      "column: period_start_dw\n",
      "\tUnique values:52\n",
      "\tNone:0.0%\n",
      "\n"
     ]
    }
   ],
   "source": [
    "train = train.drop(columns = 'Unnamed: 0')\n",
    "train['period_start_dw'] = pd.to_datetime(train.period_start_dt).apply(lambda x: x.weekofyear)\n",
    "train['period_start_dt'] = pd.to_datetime(train.period_start_dt).apply(lambda x: x.timetuple().tm_yday)\n",
    "\n",
    "with_nan = ['PROMO1_FLAG', 'PROMO2_FLAG', 'NUM_CONSULTANT', 'AUTORIZATION_FLAG']\n",
    "\n",
    "obj_columns = []\n",
    "for i in train.columns:\n",
    "    if train[i].dtype == 'O':\n",
    "        obj_columns.append(i)\n",
    "        \n",
    "for i in train.columns:\n",
    "    nones = train[i].isna().sum() / train.shape[0]\n",
    "    print(f'column: {i}\\n\\tUnique values:{len(train[i].unique())}\\n\\tNone:{round(nones, 5)}%\\n')\n"
   ]
  },
  {
   "cell_type": "code",
   "execution_count": 3,
   "metadata": {},
   "outputs": [
    {
     "name": "stdout",
     "output_type": "stream",
     "text": [
      "Nones in DataFrame \n",
      "product_rk             0\n",
      "store_location_rk      0\n",
      "period_start_dt        0\n",
      "PROMO1_FLAG            0\n",
      "PRICE_REGULAR        120\n",
      "PRICE_AFTER_DISC     120\n",
      "AUTORIZATION_FLAG      0\n",
      "period_start_dw        0\n",
      "dtype: int64\n"
     ]
    }
   ],
   "source": [
    "train = train.drop(columns=['NUM_CONSULTANT', 'PROMO2_FLAG'])\n",
    "\n",
    "test = train[train.demand.isna()]\n",
    "train = train[train.demand.notna()]\n",
    "\n",
    "train.dropna(inplace=True)\n",
    "test = test.drop(columns='demand')\n",
    "\n",
    "print(f'Nones in DataFrame \\n{test.isna().sum()}')"
   ]
  },
  {
   "cell_type": "code",
   "execution_count": 4,
   "metadata": {},
   "outputs": [],
   "source": [
    "test = test.fillna(-50)\n"
   ]
  },
  {
   "cell_type": "code",
   "execution_count": 5,
   "metadata": {},
   "outputs": [
    {
     "data": {
      "image/png": "[encoded data removed]",
      "text/plain": [
       "<Figure size 1440x936 with 9 Axes>"
      ]
     },
     "metadata": {
      "needs_background": "light"
     },
     "output_type": "display_data"
    }
   ],
   "source": [
    "plt.figure(figsize=(20,13))\n",
    "\n",
    "for i in range(len(train.columns)):\n",
    "    ax = plt.subplot(3, 4, i + 1)\n",
    "    ax.hist(train[train.columns[i]])\n",
    "    ax.set_title(str(train.columns[i]))\n",
    "\n",
    "plt.show()"
   ]
  },
  {
   "cell_type": "code",
   "execution_count": 6,
   "metadata": {},
   "outputs": [],
   "source": [
    "X_train, X_val, y_train, y_val = train_test_split(train.drop(columns='demand'), \n",
    "                                                  train.demand, \n",
    "                                                  test_size=0.2, \n",
    "                                                  random_state=42)"
   ]
  },
  {
   "cell_type": "code",
   "execution_count": 7,
   "metadata": {},
   "outputs": [],
   "source": [
    "from sklearn.preprocessing import OneHotEncoder\n",
    "from sklearn.compose import ColumnTransformer\n",
    "from sklearn.svm import SVR\n",
    "from sklearn.ensemble import BaggingRegressor\n",
    "from sklearn.preprocessing import StandardScaler\n",
    "from sklearn.pipeline import Pipeline\n",
    "\n",
    "categorical = ['product_rk', 'store_location_rk', 'PROMO1_FLAG', 'AUTORIZATION_FLAG']\n",
    "numeric = ['period_start_dt','PRICE_REGULAR', 'PRICE_AFTER_DISC' ]\n",
    "\n",
    "column_transformer = ColumnTransformer([\n",
    "    ('ohe', OneHotEncoder(handle_unknown=\"ignore\"), categorical),\n",
    "    ('scaling', StandardScaler(), numeric)\n",
    "])\n",
    "\n",
    "regr = BaggingRegressor(n_estimators=8, random_state=0)\n",
    "\n",
    "pipeline = Pipeline(steps=[\n",
    "    ('ohe_and_scaling', column_transformer),\n",
    "    ('regression', regr)\n",
    "])"
   ]
  },
  {
   "cell_type": "code",
   "execution_count": 8,
   "metadata": {},
   "outputs": [
    {
     "data": {
      "text/plain": [
       "0.7907368181302722"
      ]
     },
     "execution_count": 8,
     "metadata": {},
     "output_type": "execute_result"
    }
   ],
   "source": [
    "pipeline.fit(X_train, y_train).score(X_val, y_val)"
   ]
  },
  {
   "cell_type": "code",
   "execution_count": 9,
   "metadata": {},
   "outputs": [
    {
     "name": "stdout",
     "output_type": "stream",
     "text": [
      "Acuracy on train:  -0.13885882621675172\n",
      "Acuracy on validation:  -0.2021441883393695\n"
     ]
    }
   ],
   "source": [
    "def acc(x, y):\n",
    "    return np.mean(x - y)\n",
    "\n",
    "pred_train = pipeline.predict(X_train)\n",
    "pred_test = pipeline.predict(X_val)\n",
    "\n",
    "print('Acuracy on train: ', acc(pred_train, y_train))\n",
    "print('Acuracy on validation: ', acc(pred_test, y_val))\n"
   ]
  },
  {
   "cell_type": "code",
   "execution_count": 10,
   "metadata": {},
   "outputs": [],
   "source": [
    "pred = pipeline.predict(test)\n",
    "sample_sub = pd.read_csv('sample_submission.csv')\n",
    "sample_sub['predicted'] = pred\n",
    "sample_sub.to_csv('my_submission.csv', index=0)"
   ]
  },
  {
   "cell_type": "code",
   "execution_count": null,
   "metadata": {},
   "outputs": [],
   "source": []
  },
  {
   "cell_type": "markdown",
   "metadata": {},
   "source": [
    "regr = BaggingRegressor(n_estimators=10, random_state=0)  \n",
    "0.7895629853556086  \n",
    "Acuracy on train:  -0.1579121605093367  \n",
    "Acuracy on validation:  -0.2516853412705602  \n",
    "  \n",
    "regr = BaggingRegressor(n_estimators=8, random_state=0)  \n",
    "0.7907368181302722  \n",
    "Acuracy on train:  -0.13885882621675172  \n",
    "Acuracy on validation:  -0.2021441883393695  \n",
    "  \n"
   ]
  }
 ],
 "metadata": {
  "kernelspec": {
   "display_name": "Python 3",
   "language": "python",
   "name": "python3"
  },
  "language_info": {
   "codemirror_mode": {
    "name": "ipython",
    "version": 3
   },
   "file_extension": ".py",
   "mimetype": "text/x-python",
   "name": "python",
   "nbconvert_exporter": "python",
   "pygments_lexer": "ipython3",
   "version": "3.9.1"
  }
 },
 "nbformat": 4,
 "nbformat_minor": 4
}
